{
   "metadata": {
      "kernelspec": {
         "name": "p5js",
         "display_name": "p5.js",
         "language": "javascript"
      },
      "language_info": {
         "codemirror_mode": {
            "name": "javascript"
         },
         "file_extension": ".js",
         "mimetype": "text/javascript",
         "name": "p5js",
         "nbconvert_exporter": "javascript",
         "pygments_lexer": "javascript",
         "version": "es2017"
      }
   },
   "nbformat_minor": 4,
   "nbformat": 4,
   "cells": [
      {
         "cell_type": "markdown",
         "source": [
            "# p5 notebook"
         ],
         "metadata": {}
      },
      {
         "cell_type": "markdown",
         "source": [
            "First let's define a couple of variables:"
         ],
         "metadata": {}
      },
      {
         "cell_type": "code",
         "execution_count": null,
         "source": [
            "var n = 4;\n",
            "var speed = 1;"
         ],
         "outputs": [],
         "metadata": {
            "trusted": true
         }
      },
      {
         "cell_type": "markdown",
         "source": [
            "## The `setup` function\n",
            "\n",
            "The usual p5 setup function, which creates the canvas."
         ],
         "metadata": {}
      },
      {
         "cell_type": "code",
         "execution_count": null,
         "source": [
            "function setup () {\n",
            "  createCanvas(innerWidth, innerHeight);\n",
            "  rectMode(CENTER);\n",
            "}"
         ],
         "outputs": [],
         "metadata": {
            "trusted": true
         }
      },
      {
         "cell_type": "markdown",
         "source": [
            "## The `draw` function\n",
            "\n",
            "From the [p5.js documentation](https://p5js.org/reference/#/p5/draw):\n",
            "\n",
            "> The `draw()` function continuously executes the lines of code contained inside its block until the program is stopped or `noLoop()` is called."
         ],
         "metadata": {}
      },
      {
         "cell_type": "code",
         "execution_count": null,
         "source": [
            "function draw() {\n",
            "  background('#ddd');\n",
            "  translate(innerWidth / 2, innerHeight / 2);\n",
            "  for (let i = 0; i < n; i++) {\n",
            "    push();\n",
            "    rotate(frameCount * speed / 1000 * (i + 1));\n",
            "    fill(i * 5, i * 100, i * 150);\n",
            "    const s = 200 - i * 10;\n",
            "    rect(0, 0, s, s);\n",
            "    pop();\n",
            "  }\n",
            "}"
         ],
         "outputs": [],
         "metadata": {
            "trusted": true
         }
      },
      {
         "cell_type": "markdown",
         "source": [
            "## Show the sketch\n",
            "\n",
            "Now let's show the sketch by using the `%show` magic:"
         ],
         "metadata": {}
      },
      {
         "cell_type": "code",
         "execution_count": null,
         "source": [
            "%show"
         ],
         "outputs": [],
         "metadata": {
            "trusted": true
         }
      },
      {
         "cell_type": "markdown",
         "source": [
            "## Tweak the values\n",
            "\n",
            "We can also tweak some values in real time:"
         ],
         "metadata": {}
      },
      {
         "cell_type": "code",
         "execution_count": null,
         "source": [
            "speed = 3"
         ],
         "outputs": [],
         "metadata": {
            "trusted": true
         }
      },
      {
         "cell_type": "code",
         "execution_count": null,
         "source": [
            "n = 20"
         ],
         "outputs": [],
         "metadata": {
            "trusted": true
         }
      },
      {
         "cell_type": "markdown",
         "source": [
            "We can also show the sketch a second time taking into account the new values:"
         ],
         "metadata": {}
      },
      {
         "cell_type": "code",
         "execution_count": null,
         "source": [
            "%show"
         ],
         "outputs": [],
         "metadata": {
            "trusted": true
         }
      }
   ]
}